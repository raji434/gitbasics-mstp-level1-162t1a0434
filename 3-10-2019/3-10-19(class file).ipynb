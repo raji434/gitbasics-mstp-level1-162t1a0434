{
 "cells": [
  {
   "cell_type": "markdown",
   "metadata": {},
   "source": [
    "## File handling in python"
   ]
  },
  {
   "cell_type": "markdown",
   "metadata": {},
   "source": [
    "1. read----r\n",
    "2. write---w\n",
    "3. append----a\n",
    "4. read&write---r+\n",
    "5. write&read---w+\n",
    "6. apebd&read----a+\n",
    "7. exclusive write----x"
   ]
  },
  {
   "cell_type": "code",
   "execution_count": 4,
   "metadata": {},
   "outputs": [],
   "source": [
    "# file opening\n",
    "# file=open(\"sample.txt\",\"mode\")"
   ]
  },
  {
   "cell_type": "code",
   "execution_count": 9,
   "metadata": {},
   "outputs": [],
   "source": [
    "#create a file and add some content\n",
    "f=open(\"data.txt\",'w')\n",
    "f.write(\"welcome python\")\n",
    "f.write(\"\\napssdc\\n\")\n",
    "f.close()\n"
   ]
  },
  {
   "cell_type": "code",
   "execution_count": 10,
   "metadata": {},
   "outputs": [
    {
     "name": "stdout",
     "output_type": "stream",
     "text": [
      "welcome python\n",
      "apssdc\n",
      "\n"
     ]
    }
   ],
   "source": [
    "# print content of a file\n",
    "filedata=open(\"data.txt\",'r')\n",
    "f1=filedata.read()\n",
    "print(f1)\n",
    "filedata.close()"
   ]
  },
  {
   "cell_type": "code",
   "execution_count": 15,
   "metadata": {},
   "outputs": [
    {
     "name": "stdout",
     "output_type": "stream",
     "text": [
      "welcome python\n",
      "apssdc\n",
      "\n"
     ]
    }
   ],
   "source": [
    "def read(f1):  #function to print data of a file\n",
    "    filedata=open(\"data.txt\",'r')\n",
    "    f1=filedata.read()\n",
    "    print(f1)\n",
    "f1=\"data.txt\"\n",
    "read(f1)\n",
    "    "
   ]
  },
  {
   "cell_type": "code",
   "execution_count": 21,
   "metadata": {},
   "outputs": [],
   "source": [
    "def write(f1):\n",
    "    f=open(\"college.txt\",'w')\n",
    "    f.write(\"welcome python\")\n",
    "    f.write(\"\\nkvsw\\n\")\n",
    "    f.write(\"mstp apssdc\")\n",
    "    f.close()\n",
    "f1=\"college.txt\"   \n",
    "write(f1)"
   ]
  },
  {
   "cell_type": "code",
   "execution_count": 23,
   "metadata": {},
   "outputs": [],
   "source": [
    "def append(f1):\n",
    "    f=open(\"college.txt\",'a')\n",
    "    f.write(\"\\nmulti skill program\\n\")\n",
    "    f.close()\n",
    "append(f1)"
   ]
  },
  {
   "cell_type": "code",
   "execution_count": 27,
   "metadata": {},
   "outputs": [
    {
     "name": "stdout",
     "output_type": "stream",
     "text": [
      "welcome python\n",
      "kvsw\n",
      "mstp apssdcmulti skill program\n",
      "multi skill program\n",
      "\n"
     ]
    }
   ],
   "source": [
    "def read_file(f):\n",
    "    f2=open(\"college.txt\",'r')\n",
    "    f=f2.read()\n",
    "    print(f)\n",
    "f=\"college.txt\"\n",
    "read_file(f)"
   ]
  },
  {
   "cell_type": "code",
   "execution_count": 28,
   "metadata": {},
   "outputs": [
    {
     "name": "stdout",
     "output_type": "stream",
     "text": [
      "welcome python\n",
      "\n"
     ]
    }
   ],
   "source": [
    "f=open(\"college.txt\",'r')\n",
    "x=f.readline()\n",
    "print(x)"
   ]
  },
  {
   "cell_type": "code",
   "execution_count": 33,
   "metadata": {},
   "outputs": [
    {
     "name": "stdout",
     "output_type": "stream",
     "text": [
      "welcome python\n",
      " kvsw\n",
      " mstp apssdcmulti skill program\n",
      " multi skill program\n",
      " "
     ]
    }
   ],
   "source": [
    "f=open(\"college.txt\",'r')\n",
    "s=f.readlines()\n",
    "for i in s:\n",
    "    print(i,end=\" \")"
   ]
  },
  {
   "cell_type": "code",
   "execution_count": 36,
   "metadata": {},
   "outputs": [
    {
     "name": "stdout",
     "output_type": "stream",
     "text": [
      "welcome python\n",
      " kvsw\n",
      " mstp apssdcmulti skill program\n",
      " multi skill program\n",
      " "
     ]
    }
   ],
   "source": [
    "def step(f):\n",
    "    f1=open(\"college.txt\",'r')\n",
    "    s=f1.readlines()\n",
    "    for i in s:\n",
    "        print(i,end=\" \")\n",
    "f=\"college.txt\"\n",
    "step(f)"
   ]
  },
  {
   "cell_type": "code",
   "execution_count": 48,
   "metadata": {},
   "outputs": [
    {
     "name": "stdout",
     "output_type": "stream",
     "text": [
      "4\n"
     ]
    }
   ],
   "source": [
    "#lines count\n",
    "#characters count\n",
    "#words count\n",
    "#file length\n",
    "def linescount(f):\n",
    "    with open(\"college.txt\",'r') as f:\n",
    "        s=f.readlines()\n",
    "        c=0\n",
    "        for i in s:\n",
    "            c=c+1\n",
    "        print(c)\n",
    "f=\"college.txt\"\n",
    "linescount(f)\n"
   ]
  },
  {
   "cell_type": "code",
   "execution_count": 50,
   "metadata": {},
   "outputs": [
    {
     "name": "stdout",
     "output_type": "stream",
     "text": [
      "71\n"
     ]
    }
   ],
   "source": [
    "#characterscount\n",
    "def charactercount(f):\n",
    "    with open(\"college.txt\",'r') as f:\n",
    "        s=f.read()\n",
    "        c=0\n",
    "        for i in s:\n",
    "            c=c+1\n",
    "        print(c)\n",
    "f=\"college.txt\"\n",
    "charactercount(f)            "
   ]
  },
  {
   "cell_type": "code",
   "execution_count": 80,
   "metadata": {},
   "outputs": [
    {
     "name": "stdout",
     "output_type": "stream",
     "text": [
      "10\n"
     ]
    }
   ],
   "source": [
    "#\n",
    "def count_word(f):\n",
    "    with open(\"college.txt\",'r') as f:\n",
    "        s=f.read()\n",
    "        f2=s.split()\n",
    "        print(len(f2))\n",
    "count_word(f)"
   ]
  },
  {
   "cell_type": "code",
   "execution_count": 74,
   "metadata": {},
   "outputs": [
    {
     "name": "stdout",
     "output_type": "stream",
     "text": [
      "71\n"
     ]
    }
   ],
   "source": [
    "#file length\n",
    "def filelength(f):\n",
    "    with open(\"college.txt\",'r') as f:\n",
    "        s=f.read()\n",
    "        a=len(s)\n",
    "        print(a)\n",
    "filelength(f)\n"
   ]
  },
  {
   "cell_type": "code",
   "execution_count": null,
   "metadata": {},
   "outputs": [],
   "source": []
  }
 ],
 "metadata": {
  "kernelspec": {
   "display_name": "Python 3",
   "language": "python",
   "name": "python3"
  },
  "language_info": {
   "codemirror_mode": {
    "name": "ipython",
    "version": 3
   },
   "file_extension": ".py",
   "mimetype": "text/x-python",
   "name": "python",
   "nbconvert_exporter": "python",
   "pygments_lexer": "ipython3",
   "version": "3.7.3"
  }
 },
 "nbformat": 4,
 "nbformat_minor": 2
}
