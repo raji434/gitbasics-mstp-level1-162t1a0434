{
 "cells": [
  {
   "cell_type": "markdown",
   "metadata": {},
   "source": [
    "### Functions"
   ]
  },
  {
   "cell_type": "code",
   "execution_count": 1,
   "metadata": {},
   "outputs": [
    {
     "name": "stdout",
     "output_type": "stream",
     "text": [
      "3\n",
      "4\n",
      "7\n"
     ]
    }
   ],
   "source": [
    "def addition():\n",
    "    x=int(input())\n",
    "    y=int(input())\n",
    "    print(x+y)\n",
    "addition()"
   ]
  },
  {
   "cell_type": "code",
   "execution_count": 2,
   "metadata": {},
   "outputs": [
    {
     "name": "stdout",
     "output_type": "stream",
     "text": [
      "3\n",
      "4\n",
      "7\n"
     ]
    }
   ],
   "source": [
    "def addition(a,b):\n",
    "    c=a+b\n",
    "    print(c)\n",
    "a=input()\n",
    "b=input()\n",
    "addition(int(a),int(b))"
   ]
  },
  {
   "cell_type": "code",
   "execution_count": 3,
   "metadata": {},
   "outputs": [
    {
     "data": {
      "text/plain": [
       "(3, 4, 7)"
      ]
     },
     "execution_count": 3,
     "metadata": {},
     "output_type": "execute_result"
    }
   ],
   "source": [
    "def add(a,b):\n",
    "    c=a+b\n",
    "    return(a,b,c)\n",
    "add(3,4)"
   ]
  },
  {
   "cell_type": "code",
   "execution_count": 16,
   "metadata": {},
   "outputs": [
    {
     "name": "stdout",
     "output_type": "stream",
     "text": [
      "3\n",
      "odd\n"
     ]
    }
   ],
   "source": [
    "## even or odd\n",
    "def evenorodd(a):\n",
    "    if(a%2==0):\n",
    "        print(\"even\")\n",
    "    else:\n",
    "        print(\"odd\")\n",
    "a=int(input())\n",
    "evenorodd(a)"
   ]
  },
  {
   "cell_type": "code",
   "execution_count": 19,
   "metadata": {},
   "outputs": [
    {
     "name": "stdout",
     "output_type": "stream",
     "text": [
      "1\n",
      "3\n",
      "6\n",
      "10\n",
      "15\n",
      "21\n",
      "28\n",
      "36\n",
      "45\n",
      "55\n",
      "66\n",
      "78\n",
      "91\n",
      "105\n",
      "120\n",
      "136\n",
      "153\n",
      "171\n",
      "190\n",
      "210\n"
     ]
    }
   ],
   "source": [
    "#sum of n natural  number\n",
    "def sum(n):\n",
    "    s=0\n",
    "    for i in range(1,n+1):\n",
    "        s=s+i\n",
    "        print(s)\n",
    "sum(20)"
   ]
  },
  {
   "cell_type": "code",
   "execution_count": 3,
   "metadata": {},
   "outputs": [
    {
     "name": "stdout",
     "output_type": "stream",
     "text": [
      "1\n",
      "2\n",
      "6\n",
      "24\n",
      "120\n"
     ]
    }
   ],
   "source": [
    "## peoduct of the natural num\n",
    "def product(n):\n",
    "    s=1\n",
    "    for i in range(1,n+1):\n",
    "        s=s*i\n",
    "        print(s)\n",
    "product(5)\n"
   ]
  },
  {
   "cell_type": "code",
   "execution_count": 13,
   "metadata": {},
   "outputs": [
    {
     "name": "stdout",
     "output_type": "stream",
     "text": [
      "10\n",
      "5\n"
     ]
    }
   ],
   "source": [
    "## avg of first n natural num\n",
    "def avg(n):\n",
    "    sum=0\n",
    "    count=1\n",
    "    for i in range(1,n+1):\n",
    "        sum=sum+i\n",
    "        count=count+1\n",
    "    print(sum//count)\n",
    "n=int(input())\n",
    "avg(n)"
   ]
  },
  {
   "cell_type": "code",
   "execution_count": 3,
   "metadata": {},
   "outputs": [
    {
     "name": "stdout",
     "output_type": "stream",
     "text": [
      "4\n",
      "1 2 "
     ]
    }
   ],
   "source": [
    "# factors\n",
    "def fact(n):\n",
    "    for i in range(1,n):\n",
    "        if(n%i==0):\n",
    "            print(i,end=\" \")\n",
    "n=int(input())\n",
    "fact(n)"
   ]
  },
  {
   "cell_type": "code",
   "execution_count": 2,
   "metadata": {},
   "outputs": [
    {
     "name": "stdout",
     "output_type": "stream",
     "text": [
      "4\n"
     ]
    },
    {
     "data": {
      "text/plain": [
       "7"
      ]
     },
     "execution_count": 2,
     "metadata": {},
     "output_type": "execute_result"
    }
   ],
   "source": [
    "# sum of factors\n",
    "def sumoffactors(n):\n",
    "    s=0\n",
    "    for i in range(1,n+1):\n",
    "        if(n%i==0):\n",
    "            s=s+i\n",
    "    return s\n",
    "n=int(input())\n",
    "sumoffactors(n)"
   ]
  },
  {
   "cell_type": "code",
   "execution_count": 14,
   "metadata": {},
   "outputs": [
    {
     "name": "stdout",
     "output_type": "stream",
     "text": [
      "2016\n",
      "leap yaer\n"
     ]
    }
   ],
   "source": [
    "## leap year\n",
    "def leap(n):\n",
    "    if(n%400==0 or n%4==0 and n%100!=0):\n",
    "        print(\"leap yaer\")\n",
    "    else:\n",
    "        print(\"not leap year\")\n",
    "n=int(input())\n",
    "leap(n)"
   ]
  },
  {
   "cell_type": "code",
   "execution_count": 7,
   "metadata": {},
   "outputs": [
    {
     "name": "stdout",
     "output_type": "stream",
     "text": [
      "8\n",
      "1\n",
      "3\n",
      "7\n",
      "not perfect num\n"
     ]
    }
   ],
   "source": [
    "# perfect num\n",
    "def perfect(n):\n",
    "    sum=0\n",
    "    for i in range(1,n):\n",
    "        if(n%i==0):\n",
    "            sum=sum+i\n",
    "            print(sum)\n",
    "    if(sum==n):\n",
    "        print(\"perfect num\")\n",
    "    else:\n",
    "        print(\"not perfect num\")\n",
    "n=int(input())\n",
    "perfect(n)"
   ]
  },
  {
   "cell_type": "code",
   "execution_count": 12,
   "metadata": {},
   "outputs": [
    {
     "name": "stdout",
     "output_type": "stream",
     "text": [
      "7\n",
      "prime num\n"
     ]
    }
   ],
   "source": [
    "# prime num\n",
    "def prime(n):\n",
    "    fact=1\n",
    "    for i in range(1,n):\n",
    "        if(n%i==0):\n",
    "            fact=fact+1\n",
    "    if(fact==2):\n",
    "        print(\"prime num\")\n",
    "    else:\n",
    "        print(\"not prime num\")\n",
    "n=int(input())\n",
    "prime(n)\n",
    "            "
   ]
  },
  {
   "cell_type": "code",
   "execution_count": null,
   "metadata": {},
   "outputs": [],
   "source": [
    "# amstrong num\n"
   ]
  }
 ],
 "metadata": {
  "kernelspec": {
   "display_name": "Python 3",
   "language": "python",
   "name": "python3"
  },
  "language_info": {
   "codemirror_mode": {
    "name": "ipython",
    "version": 3
   },
   "file_extension": ".py",
   "mimetype": "text/x-python",
   "name": "python",
   "nbconvert_exporter": "python",
   "pygments_lexer": "ipython3",
   "version": "3.7.3"
  }
 },
 "nbformat": 4,
 "nbformat_minor": 2
}
