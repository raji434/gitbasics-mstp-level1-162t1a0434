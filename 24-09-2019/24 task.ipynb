{
 "cells": [
  {
   "cell_type": "code",
   "execution_count": 42,
   "metadata": {},
   "outputs": [
    {
     "name": "stdout",
     "output_type": "stream",
     "text": [
      "10\n",
      "30\n",
      "20\n",
      "num is present\n"
     ]
    }
   ],
   "source": [
    "#heck if the number exist in a given range (inputs: number(n), range(lower number and upper number) \n",
    "def range(x,y,z):\n",
    "        if(x<z<y):\n",
    "            print(\"num is present\")\n",
    "        else:\n",
    "            print(\"num is not present\")\n",
    "x=int(input())\n",
    "y=int(input())\n",
    "z=int(input())\n",
    "range(x,y,z)\n",
    "    "
   ]
  },
  {
   "cell_type": "code",
   "execution_count": 40,
   "metadata": {},
   "outputs": [
    {
     "name": "stdout",
     "output_type": "stream",
     "text": [
      "1234\n",
      "4\n"
     ]
    }
   ],
   "source": [
    "#Check the number of digits in a given number\n",
    "def digits(n):\n",
    "    a=len(n)\n",
    "    print(a)\n",
    "n=input()\n",
    "digits(n)\n",
    "    "
   ]
  },
  {
   "cell_type": "code",
   "execution_count": 4,
   "metadata": {},
   "outputs": [
    {
     "name": "stdout",
     "output_type": "stream",
     "text": [
      "13\n",
      "not factors\n"
     ]
    }
   ],
   "source": [
    "#Check if the given number is a factor of 1000 \n",
    "def fact(n):\n",
    "    if(1000%n==0):\n",
    "        print(\"factors\")\n",
    "    else:\n",
    "        print(\"not factors\")\n",
    "n=int(input())\n",
    "fact(n)"
   ]
  },
  {
   "cell_type": "code",
   "execution_count": 16,
   "metadata": {},
   "outputs": [
    {
     "name": "stdout",
     "output_type": "stream",
     "text": [
      "100\n",
      "10.0\n"
     ]
    }
   ],
   "source": [
    "#Calculate the square root of a given number\n",
    "def sqrt(n):\n",
    "    a=(n**(1/2))\n",
    "    print(a)\n",
    "n=int(input())\n",
    "sqrt(n)"
   ]
  },
  {
   "cell_type": "code",
   "execution_count": 19,
   "metadata": {},
   "outputs": [
    {
     "name": "stdout",
     "output_type": "stream",
     "text": [
      "8\n",
      "8\n",
      "square\n"
     ]
    }
   ],
   "source": [
    "#python program to take values of length and breadth(width) of a rectangle from user and check if it is square or not. . \n",
    "def rect(n):\n",
    "    if(b==l):\n",
    "        print(\"square\")\n",
    "    else:\n",
    "        print(\"ractangular\")\n",
    "b=int(input())\n",
    "l=int(input())\n",
    "rect(n)"
   ]
  },
  {
   "cell_type": "code",
   "execution_count": 24,
   "metadata": {},
   "outputs": [
    {
     "name": "stdout",
     "output_type": "stream",
     "text": [
      "87\n",
      "a\n"
     ]
    }
   ],
   "source": [
    "#A school has following rules for grading system:\n",
    "# Below 25 - F\n",
    "#25 to 45 - E\n",
    "#45 to 50 - D\n",
    "#50 to 60 - C\n",
    "#60 to 80 - B\n",
    "#Above 80 - A\n",
    "           # Ask user to enter marks and print the corresponding grade. \n",
    "def school(n):\n",
    "    if(n<25):\n",
    "        print(\"f\")\n",
    "    elif(n>25 and n<45):\n",
    "        print(\"e\")\n",
    "    elif(n>45 and n<50):\n",
    "        print(\"d\")\n",
    "    elif(n>50 and n<60):\n",
    "        print(\"c\")\n",
    "    elif(n>60 and n<80):\n",
    "        print(\"b\")\n",
    "    else:\n",
    "        print(\"a\")\n",
    "n=int(input())\n",
    "school(n)\n",
    "            "
   ]
  },
  {
   "cell_type": "code",
   "execution_count": 49,
   "metadata": {},
   "outputs": [
    {
     "name": "stdout",
     "output_type": "stream",
     "text": [
      "20\n",
      "40\n",
      "70\n",
      "oldest 70\n",
      "young 20\n"
     ]
    }
   ],
   "source": [
    "#Take input of age of 3 people by user and determine oldest and youngest among them. \n",
    "def ages(x,y,z):\n",
    "    if(x>y and x>z):\n",
    "        oldest=x\n",
    "    elif(y>z and y>x):\n",
    "        oldest=y\n",
    "    else:\n",
    "        oldest=z\n",
    "    if(x<y and x<z):\n",
    "        young=x\n",
    "    elif(y<z and y<x):\n",
    "        young=y\n",
    "    else:\n",
    "        young=z\n",
    "    print(\"oldest\",oldest)\n",
    "    print(\"young\",young)\n",
    "\n",
    "x=int(input())\n",
    "y=int(input())\n",
    "z=int(input())\n",
    "ages(x,y,z)"
   ]
  },
  {
   "cell_type": "code",
   "execution_count": 39,
   "metadata": {},
   "outputs": [
    {
     "name": "stdout",
     "output_type": "stream",
     "text": [
      "400\n",
      "56\n",
      "14.000000000000002\n",
      "not allow to exam\n"
     ]
    }
   ],
   "source": [
    "#8.A student will not be allowed to sit in exam if his/her attendance is less than 75%.\n",
    "\n",
    "#Take following input from user Number of classes held,Number of classes attended.\n",
    "#And print percentage of class attended Is student is allowed to sit in exam or not. \n",
    "def student(ch,ca):\n",
    "    a=(((ca/ch)*100))\n",
    "    print(a)\n",
    "    if(a>=75):\n",
    "        print(\"allow to exam\")\n",
    "    else:\n",
    "        print(\"not allow to exam\")\n",
    "ch=int(input())\n",
    "ca=int(input())\n",
    "student(ch,ca)"
   ]
  },
  {
   "cell_type": "code",
   "execution_count": null,
   "metadata": {},
   "outputs": [],
   "source": []
  }
 ],
 "metadata": {
  "kernelspec": {
   "display_name": "Python 3",
   "language": "python",
   "name": "python3"
  },
  "language_info": {
   "codemirror_mode": {
    "name": "ipython",
    "version": 3
   },
   "file_extension": ".py",
   "mimetype": "text/x-python",
   "name": "python",
   "nbconvert_exporter": "python",
   "pygments_lexer": "ipython3",
   "version": "3.7.3"
  }
 },
 "nbformat": 4,
 "nbformat_minor": 2
}
