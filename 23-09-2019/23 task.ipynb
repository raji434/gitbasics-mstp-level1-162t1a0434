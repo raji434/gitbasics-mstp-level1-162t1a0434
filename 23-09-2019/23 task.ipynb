{
 "cells": [
  {
   "cell_type": "code",
   "execution_count": 12,
   "metadata": {},
   "outputs": [
    {
     "name": "stdout",
     "output_type": "stream",
     "text": [
      "28\n",
      "problem solving using python\n",
      "nohtyp gnisu gnivlos melborp\n",
      "['problem', 'solving', 'using', 'python']\n",
      "problem solving using python2\n"
     ]
    }
   ],
   "source": [
    "#take a string \"problem solving using python\"\n",
    "s=\"problem solving using python\"\n",
    "print(len(s))\n",
    "print(s.lower())\n",
    "print(s[-1::-1])\n",
    "print(s.split())\n",
    "for i in range(0,len(s)):\n",
    "    print(s[i],end=\"\")\n",
    "print(s.count('s'))\n"
   ]
  },
  {
   "cell_type": "code",
   "execution_count": 9,
   "metadata": {},
   "outputs": [
    {
     "name": "stdout",
     "output_type": "stream",
     "text": [
      "2\n"
     ]
    }
   ],
   "source": [
    "#take a string \"python programming by python platforms\"\n",
    "s=\"python prograsmming by python platforms\"\n",
    "print(s.count('python'))"
   ]
  },
  {
   "cell_type": "code",
   "execution_count": 8,
   "metadata": {},
   "outputs": [
    {
     "name": "stdout",
     "output_type": "stream",
     "text": [
      "resta$t\n"
     ]
    }
   ],
   "source": [
    "#restart to resta$t\n",
    "s=\"restart\"\n",
    "a1=s[0]\n",
    "b1=s[1:len(s)]\n",
    "x=b1.replace('r','$',1)\n",
    "print(a1+x)"
   ]
  },
  {
   "cell_type": "code",
   "execution_count": null,
   "metadata": {},
   "outputs": [],
   "source": [
    "#"
   ]
  },
  {
   "cell_type": "code",
   "execution_count": null,
   "metadata": {},
   "outputs": [],
   "source": []
  }
 ],
 "metadata": {
  "kernelspec": {
   "display_name": "Python 3",
   "language": "python",
   "name": "python3"
  },
  "language_info": {
   "codemirror_mode": {
    "name": "ipython",
    "version": 3
   },
   "file_extension": ".py",
   "mimetype": "text/x-python",
   "name": "python",
   "nbconvert_exporter": "python",
   "pygments_lexer": "ipython3",
   "version": "3.7.3"
  }
 },
 "nbformat": 4,
 "nbformat_minor": 2
}
