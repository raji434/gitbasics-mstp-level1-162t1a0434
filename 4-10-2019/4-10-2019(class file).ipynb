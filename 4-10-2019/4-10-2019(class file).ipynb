{
 "cells": [
  {
   "cell_type": "code",
   "execution_count": 1,
   "metadata": {},
   "outputs": [],
   "source": [
    "# file modes\n",
    "# tell\n",
    "#seek\n",
    "#w+=write and read\n"
   ]
  },
  {
   "cell_type": "code",
   "execution_count": 3,
   "metadata": {},
   "outputs": [],
   "source": [
    "def file_op(f1):\n",
    "    f=open(\"file_operation.txt\",'w')\n",
    "    f.write(\"welcome python\")\n",
    "    f.write(\"\\napssdc\\n\")\n",
    "    f.write(\"\\nmstp\\n\")\n",
    "    f.write(\"\\nkvsw\\n\")\n",
    "    f.close()\n",
    "f1=\"file_operatio.txt\"\n",
    "file_op(f1)"
   ]
  },
  {
   "cell_type": "code",
   "execution_count": 14,
   "metadata": {},
   "outputs": [
    {
     "name": "stdout",
     "output_type": "stream",
     "text": [
      "welcome python\n",
      "apssd\n",
      "21\n",
      "2\n"
     ]
    }
   ],
   "source": [
    "f=open(\"file_operation.txt\",'r')\n",
    "f1=f.read(20)\n",
    "print(f1)\n",
    "print(f.tell())\n",
    "f2=f.seek(2)\n",
    "print(f2)"
   ]
  },
  {
   "cell_type": "code",
   "execution_count": 16,
   "metadata": {},
   "outputs": [
    {
     "data": {
      "text/plain": [
       "40"
      ]
     },
     "execution_count": 16,
     "metadata": {},
     "output_type": "execute_result"
    }
   ],
   "source": [
    "x=open(\"file_operation.txt\",'r')\n",
    "x.read()\n",
    "x.tell()"
   ]
  },
  {
   "cell_type": "code",
   "execution_count": 18,
   "metadata": {},
   "outputs": [
    {
     "name": "stdout",
     "output_type": "stream",
     "text": [
      "ome python\n",
      "apssdc\n",
      "\n",
      "mstp\n",
      "\n",
      "kvsw\n",
      "\n"
     ]
    }
   ],
   "source": [
    "x=open(\"file_operation.txt\",'r') \n",
    "x.read()\n",
    "x.seek(4)\n",
    "x.tell()\n",
    "print(x.read())"
   ]
  },
  {
   "cell_type": "code",
   "execution_count": 26,
   "metadata": {},
   "outputs": [
    {
     "name": "stdout",
     "output_type": "stream",
     "text": [
      "orld is good\n"
     ]
    }
   ],
   "source": [
    "f1=\"file_operation.txt\"\n",
    "def w_r(f1):\n",
    "    with open (f1,'w+') as f:\n",
    "        f.write(\"world is good\")\n",
    "        f.seek(1)\n",
    "        f2=f.read()\n",
    "        print(f2)\n",
    "w_r(f1)"
   ]
  },
  {
   "cell_type": "code",
   "execution_count": 35,
   "metadata": {},
   "outputs": [
    {
     "name": "stdout",
     "output_type": "stream",
     "text": [
      "151\n",
      "palindrome\n"
     ]
    }
   ],
   "source": [
    "def palindrome(s):\n",
    "    \n",
    "    s=input()\n",
    "    b=len(s)\n",
    "    a=\"\"\n",
    "    for i in range(1,b):\n",
    "        a=s[::-1]\n",
    "    if s==a:\n",
    "        print(\"palindrome\")\n",
    "    else:\n",
    "        print(\"not palindrome\")\n",
    "palindrome(s)\n",
    "    "
   ]
  },
  {
   "cell_type": "code",
   "execution_count": 10,
   "metadata": {},
   "outputs": [
    {
     "name": "stdout",
     "output_type": "stream",
     "text": [
      "121\n",
      "palindrome\n"
     ]
    }
   ],
   "source": [
    "\n",
    "n=int(input())\n",
    "def palindrome(n):\n",
    "    x=0\n",
    "    y=n\n",
    "#while(n!=0):\n",
    "    for i in range(n):\n",
    "        if n!=0:\n",
    "            s=n%10\n",
    "            x=x*10+s\n",
    "            n=n//10\n",
    "    if(x==y):\n",
    "        print(\"palindrome\")\n",
    "    else:\n",
    "        print(\"not a palindrome\")\n",
    "palindrome(n)"
   ]
  },
  {
   "cell_type": "code",
   "execution_count": null,
   "metadata": {},
   "outputs": [],
   "source": []
  }
 ],
 "metadata": {
  "kernelspec": {
   "display_name": "Python 3",
   "language": "python",
   "name": "python3"
  },
  "language_info": {
   "codemirror_mode": {
    "name": "ipython",
    "version": 3
   },
   "file_extension": ".py",
   "mimetype": "text/x-python",
   "name": "python",
   "nbconvert_exporter": "python",
   "pygments_lexer": "ipython3",
   "version": "3.7.3"
  }
 },
 "nbformat": 4,
 "nbformat_minor": 2
}
