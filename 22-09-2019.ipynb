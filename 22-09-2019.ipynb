{
 "cells": [
  {
   "cell_type": "code",
   "execution_count": 6,
   "metadata": {},
   "outputs": [
    {
     "name": "stdout",
     "output_type": "stream",
     "text": [
      "0\n"
     ]
    }
   ],
   "source": [
    "a=20\n",
    "a%=20\n",
    "print(a)"
   ]
  },
  {
   "cell_type": "markdown",
   "metadata": {},
   "source": [
    "#### Comparision Operators"
   ]
  },
  {
   "cell_type": "code",
   "execution_count": 7,
   "metadata": {},
   "outputs": [
    {
     "name": "stdout",
     "output_type": "stream",
     "text": [
      "False\n",
      "True\n",
      "True\n",
      "False\n"
     ]
    }
   ],
   "source": [
    "x=4\n",
    "y=5\n",
    "print(x>y)\n",
    "print(x<y)\n",
    "print(x!=y)\n",
    "print(x==y)"
   ]
  },
  {
   "cell_type": "markdown",
   "metadata": {},
   "source": [
    "# Logical Operators"
   ]
  },
  {
   "cell_type": "code",
   "execution_count": 10,
   "metadata": {},
   "outputs": [
    {
     "name": "stdout",
     "output_type": "stream",
     "text": [
      "8\n",
      "5\n",
      "False\n",
      "False\n"
     ]
    }
   ],
   "source": [
    "x=5\n",
    "y=8\n",
    "print(5 and 8)\n",
    "print(5 or 8)\n",
    "print(not x)\n",
    "print(not y)"
   ]
  },
  {
   "cell_type": "markdown",
   "metadata": {},
   "source": [
    "# Bitwise Operator"
   ]
  },
  {
   "cell_type": "code",
   "execution_count": 14,
   "metadata": {},
   "outputs": [
    {
     "name": "stdout",
     "output_type": "stream",
     "text": [
      "14\n",
      "8\n",
      "6\n"
     ]
    }
   ],
   "source": [
    "a=10\n",
    "b=12\n",
    "print(a|b)\n",
    "print(a&b)\n",
    "print(a^b)"
   ]
  },
  {
   "cell_type": "markdown",
   "metadata": {},
   "source": [
    "# Identity Operators"
   ]
  },
  {
   "cell_type": "code",
   "execution_count": 15,
   "metadata": {},
   "outputs": [
    {
     "name": "stdout",
     "output_type": "stream",
     "text": [
      "True\n",
      "False\n"
     ]
    }
   ],
   "source": [
    "a=6\n",
    "print(a is 6)\n",
    "print(a is not 6)"
   ]
  },
  {
   "cell_type": "markdown",
   "metadata": {},
   "source": [
    "Membership Operators"
   ]
  },
  {
   "cell_type": "code",
   "execution_count": 18,
   "metadata": {},
   "outputs": [
    {
     "name": "stdout",
     "output_type": "stream",
     "text": [
      "True\n",
      "False\n",
      "True\n"
     ]
    }
   ],
   "source": [
    "a=[2,5,7,8]\n",
    "print(2 in a)\n",
    "print(7 not in a)\n",
    "print(3 not in a)"
   ]
  },
  {
   "cell_type": "markdown",
   "metadata": {},
   "source": [
    "# Input/Output"
   ]
  },
  {
   "cell_type": "code",
   "execution_count": 21,
   "metadata": {},
   "outputs": [
    {
     "name": "stdout",
     "output_type": "stream",
     "text": [
      "kvsw\n",
      "[2, 5, 7, 8]\n"
     ]
    }
   ],
   "source": [
    "print(\"kvsw\")\n",
    "print(a)"
   ]
  },
  {
   "cell_type": "code",
   "execution_count": 22,
   "metadata": {},
   "outputs": [
    {
     "name": "stdout",
     "output_type": "stream",
     "text": [
      "enter a num\n",
      "34\n"
     ]
    }
   ],
   "source": [
    "print(\"enter a num\")\n",
    "a=input()"
   ]
  },
  {
   "cell_type": "code",
   "execution_count": 23,
   "metadata": {},
   "outputs": [
    {
     "name": "stdout",
     "output_type": "stream",
     "text": [
      "enter a number34\n"
     ]
    }
   ],
   "source": [
    "a=input(\"enter a number\")"
   ]
  },
  {
   "cell_type": "code",
   "execution_count": 29,
   "metadata": {},
   "outputs": [
    {
     "name": "stdout",
     "output_type": "stream",
     "text": [
      "enter a num2\n",
      "enter a num3\n",
      "enter a num4\n",
      "2 3 4\n",
      "2,3,4\n",
      "2:3:4\n",
      "2;3;4\n"
     ]
    }
   ],
   "source": [
    "x=input(\"enter a num\")\n",
    "y=input(\"enter a num\")\n",
    "z=input(\"enter a num\")\n",
    "print(x,y,z)\n",
    "print(x,y,z,sep=\",\")\n",
    "print(x,y,z,sep=\":\")\n",
    "print(x,y,z,sep=\";\")\n"
   ]
  },
  {
   "cell_type": "code",
   "execution_count": 31,
   "metadata": {},
   "outputs": [
    {
     "name": "stdout",
     "output_type": "stream",
     "text": [
      "2\t3\t4\n"
     ]
    }
   ],
   "source": [
    "print(x,end=\"\\t\")\n",
    "print(y,end=\"\\t\")\n",
    "print(z)"
   ]
  },
  {
   "cell_type": "code",
   "execution_count": 32,
   "metadata": {},
   "outputs": [
    {
     "name": "stdout",
     "output_type": "stream",
     "text": [
      "addition 8\n"
     ]
    }
   ],
   "source": [
    "a=3\n",
    "b=5\n",
    "print(\"addition\",a+b)"
   ]
  },
  {
   "cell_type": "code",
   "execution_count": 35,
   "metadata": {},
   "outputs": [
    {
     "name": "stdout",
     "output_type": "stream",
     "text": [
      "enter a num\n",
      "3\n",
      "4\n",
      "7\n"
     ]
    }
   ],
   "source": [
    "print(\"enter a num\")\n",
    "a=input()\n",
    "b=input()\n",
    "print(int(a)+int(b))"
   ]
  },
  {
   "cell_type": "code",
   "execution_count": 37,
   "metadata": {},
   "outputs": [
    {
     "name": "stdout",
     "output_type": "stream",
     "text": [
      "enter a num5\n",
      "enter a num 15\n",
      "20.0\n"
     ]
    }
   ],
   "source": [
    "a=float(input(\"enter a num\"))\n",
    "b=float(input(\"enter a num \"))\n",
    "print(a+b)"
   ]
  },
  {
   "cell_type": "markdown",
   "metadata": {},
   "source": [
    "# Strings"
   ]
  },
  {
   "cell_type": "code",
   "execution_count": 45,
   "metadata": {},
   "outputs": [
    {
     "name": "stdout",
     "output_type": "stream",
     "text": [
      "raji\n",
      "hello \n",
      " world\n",
      "hello world\n",
      "I don't care\n",
      "first\n",
      "second\n",
      "third\n",
      "first\n",
      "second\n",
      "third\n",
      "first\n",
      "second\tthird\n"
     ]
    }
   ],
   "source": [
    "print(\"raji\")\n",
    "print(\"hello \\n world\")\n",
    "print('hello world')\n",
    "print('I don\\'t care')\n",
    "print(\"\"\"first\n",
    "second\n",
    "third\"\"\")\n",
    "print('''first\n",
    "second\n",
    "third''')\n",
    "print(\"\"\"first\\nsecond\\tthird\"\"\")"
   ]
  },
  {
   "cell_type": "code",
   "execution_count": 48,
   "metadata": {},
   "outputs": [
    {
     "name": "stdout",
     "output_type": "stream",
     "text": [
      "sum of 10 and 11 is 21\n"
     ]
    }
   ],
   "source": [
    "a=10\n",
    "b=11\n",
    "print(\"sum of {0} and {1} is {2}\".format(a,b,a+b))"
   ]
  },
  {
   "cell_type": "markdown",
   "metadata": {},
   "source": [
    "String Slicing"
   ]
  },
  {
   "cell_type": "code",
   "execution_count": 53,
   "metadata": {},
   "outputs": [
    {
     "name": "stdout",
     "output_type": "stream",
     "text": [
      "ngk"
     ]
    }
   ],
   "source": [
    "a=\"ngk\"\n",
    "print(a[0],end=\"\")\n",
    "print(a[1],end=\"\")\n",
    "print(a[2],end=\"\")"
   ]
  },
  {
   "cell_type": "code",
   "execution_count": 57,
   "metadata": {},
   "outputs": [
    {
     "name": "stdout",
     "output_type": "stream",
     "text": [
      "ngk\n"
     ]
    }
   ],
   "source": [
    "#a=[start:end:step] for syntax start-inclussive,end-ex\n",
    "a[0:3]\n",
    "print(a)"
   ]
  },
  {
   "cell_type": "code",
   "execution_count": 63,
   "metadata": {},
   "outputs": [
    {
     "name": "stdout",
     "output_type": "stream",
     "text": [
      "rajeswari\n",
      "rajeswari\n",
      "rajeswari\n",
      "rajeswari\n",
      "9\n"
     ]
    }
   ],
   "source": [
    "a=\"rajeswari\"\n",
    "print(a[0:])\n",
    "print(a[0::1])\n",
    "print(a[0:len(a):1])\n",
    "print(a[0:len(a)])\n",
    "print(len(a))"
   ]
  },
  {
   "cell_type": "code",
   "execution_count": 64,
   "metadata": {},
   "outputs": [
    {
     "name": "stdout",
     "output_type": "stream",
     "text": [
      "rajeswari\n"
     ]
    }
   ],
   "source": [
    "print(a[::])"
   ]
  },
  {
   "cell_type": "code",
   "execution_count": 79,
   "metadata": {},
   "outputs": [
    {
     "name": "stdout",
     "output_type": "stream",
     "text": [
      "irawsejar\n",
      "irawsejar\n",
      "\n",
      "ari\n"
     ]
    }
   ],
   "source": [
    "a=\"rajeswari\" #to reverse the string\n",
    "a[-1::-1]\n",
    "print(a[len(a)::-1])\n",
    "print(a[::-1])\n",
    "print(a[0:len(a):-1])\n",
    "print(a[len(a)-3::])"
   ]
  },
  {
   "cell_type": "code",
   "execution_count": 94,
   "metadata": {},
   "outputs": [
    {
     "name": "stdout",
     "output_type": "stream",
     "text": [
      "ksagl\n",
      "senwv\n",
      "els\n",
      "els\n",
      "els\n",
      "kvswangels\n",
      "n\n"
     ]
    }
   ],
   "source": [
    "a=\"kvswangels\" #to pprint the alternative characters of a string\n",
    "print(a[0::2])\n",
    "print(a[::-2 ])#to print the alternative characters in the reverse string\n",
    "print(a[-3::])\n",
    "print(a[len(a)-3::])\n",
    "print(a[-3:len(a):])\n",
    "print(a)\n",
    "print(a[len(a)//2:len(a)//2-1:-1])"
   ]
  },
  {
   "cell_type": "markdown",
   "metadata": {},
   "source": [
    "Method"
   ]
  },
  {
   "cell_type": "code",
   "execution_count": 95,
   "metadata": {},
   "outputs": [
    {
     "name": "stdout",
     "output_type": "stream",
     "text": [
      "KVSWROCKS\n"
     ]
    }
   ],
   "source": [
    "a=\"kvswrocks\"\n",
    "print(a.upper())"
   ]
  },
  {
   "cell_type": "code",
   "execution_count": 96,
   "metadata": {},
   "outputs": [
    {
     "name": "stdout",
     "output_type": "stream",
     "text": [
      "kvswrocks\n"
     ]
    }
   ],
   "source": [
    "a=\"KVSWROCKS\"\n",
    "print(a.lower())"
   ]
  },
  {
   "cell_type": "code",
   "execution_count": 99,
   "metadata": {},
   "outputs": [
    {
     "name": "stdout",
     "output_type": "stream",
     "text": [
      "thdfkiurfhjfgfh\n",
      "THDFKIURFHJFGFH\n",
      "thdfKIURFHJFgfH\n"
     ]
    }
   ],
   "source": [
    "a=\"THDFkiurfhjfGFh\"\n",
    "print(a.lower())\n",
    "print(a.upper())\n",
    "print(a.swapcase())"
   ]
  },
  {
   "cell_type": "code",
   "execution_count": 102,
   "metadata": {},
   "outputs": [
    {
     "name": "stdout",
     "output_type": "stream",
     "text": [
      "3\n",
      "4\n"
     ]
    }
   ],
   "source": [
    "a=\"hthffhjfgulcghdty\"\n",
    "print(a.count(\"f\"))\n",
    "print(a.count(\"h\"))"
   ]
  },
  {
   "cell_type": "code",
   "execution_count": null,
   "metadata": {},
   "outputs": [],
   "source": []
  }
 ],
 "metadata": {
  "kernelspec": {
   "display_name": "Python 3",
   "language": "python",
   "name": "python3"
  },
  "language_info": {
   "codemirror_mode": {
    "name": "ipython",
    "version": 3
   },
   "file_extension": ".py",
   "mimetype": "text/x-python",
   "name": "python",
   "nbconvert_exporter": "python",
   "pygments_lexer": "ipython3",
   "version": "3.7.3"
  }
 },
 "nbformat": 4,
 "nbformat_minor": 2
}
