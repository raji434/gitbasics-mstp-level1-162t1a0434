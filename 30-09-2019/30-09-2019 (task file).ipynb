{
 "cells": [
  {
   "cell_type": "code",
   "execution_count": 10,
   "metadata": {},
   "outputs": [
    {
     "name": "stdout",
     "output_type": "stream",
     "text": [
      "[1, 4, 9, 16, 25, 36, 49, 64, 81, 100, 121, 144, 169, 196, 225]\n",
      "{1: 1, 2: 4, 3: 9, 4: 16, 5: 25, 6: 36, 7: 49, 8: 64, 9: 81, 10: 100, 11: 121, 12: 144, 13: 169, 14: 196, 15: 225}\n"
     ]
    }
   ],
   "source": [
    "#1.Write a Python program to generate and print a list and a dictionary of square of numbers between 1 and 15 (both included) \n",
    "d={}\n",
    "l=[]\n",
    "for i in range(1,16):\n",
    "    d[i]=i**2\n",
    "    l.append(i**2)\n",
    "print(l)    \n",
    "print(d)"
   ]
  },
  {
   "cell_type": "code",
   "execution_count": 23,
   "metadata": {},
   "outputs": [
    {
     "name": "stdout",
     "output_type": "stream",
     "text": [
      "[1, 2, 3, 4, 5, 6, 7, 8, 9, 10]\n"
     ]
    }
   ],
   "source": [
    "#2.Take 10 integer inputs from user and store them in a list and print them on screen.\n",
    "#a=int(input())\n",
    "a=[]\n",
    "for i in range(1,11):\n",
    "    a.append(i)\n",
    "print(a)\n",
    "    "
   ]
  },
  {
   "cell_type": "code",
   "execution_count": 23,
   "metadata": {},
   "outputs": [
    {
     "name": "stdout",
     "output_type": "stream",
     "text": [
      "[2, 4] "
     ]
    }
   ],
   "source": [
    "#l=[1,5,7,3,2,4,5,9],print list of all even numbers from the given list \n",
    "l=[1,5,7,3,2,4,5,9]\n",
    "m=[]\n",
    "#def even(l):\n",
    "for i in range(len(l)):\n",
    "        if(l[i]%2==0):\n",
    "            m.append(l[i])\n",
    "print(m,end=\" \")     \n",
    "            \n",
    "            \n",
    "#even(l)"
   ]
  },
  {
   "cell_type": "code",
   "execution_count": 4,
   "metadata": {},
   "outputs": [
    {
     "name": "stdout",
     "output_type": "stream",
     "text": [
      "10\n",
      "a\n",
      "55\n",
      "b\n",
      "85\n",
      "c\n",
      "97\n",
      "d\n",
      "75\n",
      "e\n",
      "84\n",
      "f\n",
      "91\n",
      "g\n",
      "56\n",
      "h\n",
      "82\n",
      "i\n",
      "62\n",
      "j\n",
      "95\n",
      "{'a': 55, 'b': 85, 'c': 97, 'd': 75, 'e': 84, 'f': 91, 'g': 56, 'h': 82, 'i': 62, 'j': 95}\n"
     ]
    }
   ],
   "source": [
    "#Ask user to give name and marks of 10 different students. Store them in dictionary.\n",
    "d={}\n",
    "\n",
    "n=int(input())\n",
    "for i in range(1,n+1):\n",
    "    a=input()\n",
    "    b=int(input())\n",
    "    d[a]=b\n",
    "    \n",
    "\n",
    "\n",
    "print(d)\n",
    "\n",
    "    \n",
    "    \n",
    "    "
   ]
  },
  {
   "cell_type": "code",
   "execution_count": 31,
   "metadata": {},
   "outputs": [
    {
     "name": "stdout",
     "output_type": "stream",
     "text": [
      "2\n",
      "-7\n",
      "56\n",
      "0\n",
      "6\n",
      "0\n",
      "4\n",
      "-4\n",
      "5\n",
      "6\n",
      "{'p': 6, 'n': 2, 'e': 6, 'o': 2, 'z': 2}\n"
     ]
    }
   ],
   "source": [
    "#4.Take 10 integer inputs from user and print the following:\n",
    "#number of positive numbers                                          \n",
    "#number of negative numbers\n",
    "#number of odd numbers\n",
    "#number of even numbers\n",
    "#number of 0s.using dictionaries\n",
    "#a=[10,20,-5,-6,3,4,0,0,-2,8]\n",
    "#d={p:5,n:3,e:6,odd:2,0:2}\n",
    "\n",
    "y=[]\n",
    "for i in range(1,11):\n",
    "    n=int(input())\n",
    "    y.append(n)\n",
    "d={'p':0,'n':0,'e':0,'o':0,'z':0}\n",
    "for j in y:\n",
    "    if j>0:\n",
    "        d['p']+=1\n",
    "        if j%2==0:\n",
    "            d['e']+=1\n",
    "        else:\n",
    "            d['o']+=1\n",
    "    elif j<0:\n",
    "        d['n']+=1\n",
    "        if j%2==0:\n",
    "            d['e']+=1\n",
    "        else:\n",
    "            d['o']+=1\n",
    "    elif j==0:\n",
    "        d['z']+=1\n",
    "print(d)\n",
    "        \n",
    "            \n",
    "        \n",
    "\n"
   ]
  },
  {
   "cell_type": "markdown",
   "metadata": {},
   "source": [
    "###### "
   ]
  },
  {
   "cell_type": "code",
   "execution_count": 34,
   "metadata": {},
   "outputs": [
    {
     "name": "stdout",
     "output_type": "stream",
     "text": [
      "{'I': 4, 'S': 4, 'P': 2, 'M': 1}\n"
     ]
    }
   ],
   "source": [
    "#8.Count the number of occurrence of each letter in word \"MISSISSIPPI\". Store count of every letter with the letter in a dictionary.\n",
    "a=\"MISSISSIPPI\"\n",
    "b=list(set(a))\n",
    "d={}\n",
    "\n",
    "\n",
    "for i in b:\n",
    "    d[i]=a.count(i)\n",
    "print(d)\n",
    "\n"
   ]
  },
  {
   "cell_type": "code",
   "execution_count": 35,
   "metadata": {},
   "outputs": [
    {
     "name": "stdout",
     "output_type": "stream",
     "text": [
      "['I', 'M', 'P', 'S']\n",
      "{'I': 4, 'M': 1, 'P': 2, 'S': 4}\n"
     ]
    }
   ],
   "source": [
    "#9.From the previous question, sort according to the number of letters.\n",
    "a=\"MISSISSIPPI\"\n",
    "b=list(set(a))\n",
    "b=sorted(b)\n",
    "print(b)\n",
    "d={}\n",
    "\n",
    "\n",
    "for i in b:\n",
    "    d[i]=a.count(i)\n",
    "print(d)"
   ]
  },
  {
   "cell_type": "code",
   "execution_count": 11,
   "metadata": {},
   "outputs": [
    {
     "name": "stdout",
     "output_type": "stream",
     "text": [
      "3\n",
      "66\n",
      "a\n",
      "22\n",
      "b\n",
      "80\n",
      "c\n",
      "{66: 'a', 22: 'b', 80: 'c'}\n",
      "[22, 66, 80]\n",
      "22 : b\n",
      "66 : a\n",
      "80 : c\n"
     ]
    }
   ],
   "source": [
    "#6.Sort the dictionary created in previous example according to marks.\n",
    "d={}\n",
    "\n",
    "n=int(input())\n",
    "for i in range(1,n+1):\n",
    "    a=int(input())\n",
    "    b=input()\n",
    "    d[a]=b\n",
    "print(d)\n",
    "f=sorted(d.keys())\n",
    "print(f)\n",
    "for i in f:\n",
    "    print(i,\":\",d[i])"
   ]
  },
  {
   "cell_type": "code",
   "execution_count": 24,
   "metadata": {},
   "outputs": [
    {
     "name": "stdout",
     "output_type": "stream",
     "text": [
      "['right', 'top', 'push']\n",
      "top\n",
      "down\n"
     ]
    }
   ],
   "source": [
    "#7.Use dictionary to store antonyms of words. \n",
    "#E.g.- 'Right':'Left', 'Up':'Down', etc. Display all words and then ask user to enter a word and display antonym of it.\n",
    "h={\"right\":\"left\",\"top\":\"down\",\"push\":\"pop\"}\n",
    "print(list(h.keys()))\n",
    "#for i in h.keys():\n",
    "    #print(i)\n",
    "n=input()\n",
    "print(h.get(n))\n",
    "#print(h[n])\n",
    "        \n",
    "        \n",
    "    "
   ]
  },
  {
   "cell_type": "code",
   "execution_count": null,
   "metadata": {},
   "outputs": [],
   "source": []
  }
 ],
 "metadata": {
  "kernelspec": {
   "display_name": "Python 3",
   "language": "python",
   "name": "python3"
  },
  "language_info": {
   "codemirror_mode": {
    "name": "ipython",
    "version": 3
   },
   "file_extension": ".py",
   "mimetype": "text/x-python",
   "name": "python",
   "nbconvert_exporter": "python",
   "pygments_lexer": "ipython3",
   "version": "3.7.3"
  }
 },
 "nbformat": 4,
 "nbformat_minor": 2
}
