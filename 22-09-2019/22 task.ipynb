{
 "cells": [
  {
   "cell_type": "code",
   "execution_count": 1,
   "metadata": {},
   "outputs": [
    {
     "name": "stdout",
     "output_type": "stream",
     "text": [
      "abc.java\n",
      "java\n"
     ]
    }
   ],
   "source": [
    "#2.Write a Python program to accept a filename from the user and print the extension of that. \n",
    "#Sample filename : abc. java\n",
    "#Output : java \n",
    "b=input()\n",
    "x=b.split('.')\n",
    "y=x[1]\n",
    "print(y)"
   ]
  },
  {
   "cell_type": "code",
   "execution_count": 4,
   "metadata": {},
   "outputs": [
    {
     "name": "stdout",
     "output_type": "stream",
     "text": [
      "5\n",
      "155\n"
     ]
    }
   ],
   "source": [
    "#3. Write a Python program that accepts an integer (n) and computes the value of n+nn+nnn. \n",
    "#Sample value of n is 5\n",
    "#Expected Result : 615 \n",
    "n=int(input())\n",
    "print(n+n*n+n*n*n)"
   ]
  },
  {
   "cell_type": "code",
   "execution_count": 12,
   "metadata": {},
   "outputs": [
    {
     "name": "stdout",
     "output_type": "stream",
     "text": [
      "rajeswari\n",
      "dhatla\n",
      "dhjeswari raatla\n"
     ]
    }
   ],
   "source": [
    "#5.Write a Python program to get a single string from two given strings, separated by a space and swap the first two characters of each string. \n",
    "#Sample String : 'abc', 'xyz'\n",
    "#Expected Result : 'xyc abz' \n",
    "a=input()\n",
    "b=input()\n",
    "a1=b[0:2]+a[2:]\n",
    "b1=a[0:2]+b[2:]\n",
    "print(a1+\" \"+b1)\n"
   ]
  },
  {
   "cell_type": "code",
   "execution_count": 6,
   "metadata": {},
   "outputs": [
    {
     "name": "stdout",
     "output_type": "stream",
     "text": [
      "datla\n",
      "rajeswari\n",
      "rajeswari datla\n"
     ]
    }
   ],
   "source": [
    "#1.Write a Python program which accepts the user's first and last name and print them in reverse order with a space between them. \n",
    "a=input()\n",
    "b=input()\n",
    "print(b,a)"
   ]
  },
  {
   "cell_type": "code",
   "execution_count": 8,
   "metadata": {},
   "outputs": [
    {
     "name": "stdout",
     "output_type": "stream",
     "text": [
      "prOBlem SOLving UsinG pyTHon\n",
      "PRobLEM solVING uSINg PYthON\n"
     ]
    }
   ],
   "source": [
    "#6.Write a Python script that takes input from the user and displays that input back in upper and lower cases \n",
    "x=input()\n",
    "print(x.swapcase())"
   ]
  },
  {
   "cell_type": "code",
   "execution_count": 16,
   "metadata": {},
   "outputs": [
    {
     "name": "stdout",
     "output_type": "stream",
     "text": [
      "PROBLEM\n",
      "2\n",
      "prOBLEM\n"
     ]
    }
   ],
   "source": [
    "#7.Write a Python program to lowercase first n characters in a string \n",
    "a=input()\n",
    "b=int(input())\n",
    "print(a[:b].lower()+a[b:])\n",
    "\n"
   ]
  },
  {
   "cell_type": "code",
   "execution_count": null,
   "metadata": {},
   "outputs": [],
   "source": []
  },
  {
   "cell_type": "code",
   "execution_count": null,
   "metadata": {},
   "outputs": [],
   "source": []
  }
 ],
 "metadata": {
  "kernelspec": {
   "display_name": "Python 3",
   "language": "python",
   "name": "python3"
  },
  "language_info": {
   "codemirror_mode": {
    "name": "ipython",
    "version": 3
   },
   "file_extension": ".py",
   "mimetype": "text/x-python",
   "name": "python",
   "nbconvert_exporter": "python",
   "pygments_lexer": "ipython3",
   "version": "3.7.3"
  }
 },
 "nbformat": 4,
 "nbformat_minor": 2
}
