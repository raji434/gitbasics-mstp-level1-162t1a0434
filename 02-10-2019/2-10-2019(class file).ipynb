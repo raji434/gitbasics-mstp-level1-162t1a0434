{
 "cells": [
  {
   "cell_type": "markdown",
   "metadata": {},
   "source": [
    "# Regular expressions"
   ]
  },
  {
   "cell_type": "code",
   "execution_count": 13,
   "metadata": {},
   "outputs": [
    {
     "name": "stdout",
     "output_type": "stream",
     "text": [
      "1\n",
      "1\n",
      "1\n"
     ]
    }
   ],
   "source": [
    "#phone number validation\n",
    "#^[0][6-9][0-9]{9}$ number starting with zero\n",
    "#^+91[6-9][0-9]{9}$   10 digit number starting eith +91\n",
    "#^[6-9][0-9]{9}$\n",
    "import re\n",
    "def phoneno(no):\n",
    "    pattern='^[+][9][1][6789][0-9]{9}$|^[0][6-9][0-9]{9}$|^[6-9][0-9]{9}$'\n",
    "    if re.match(pattern,no):\n",
    "        return 1\n",
    "    else:\n",
    "        return 0\n",
    "print(phoneno(\"+919949492180\"))\n",
    "print(phoneno(\"9000723305\"))\n",
    "print(phoneno(\"09949492180\"))"
   ]
  },
  {
   "cell_type": "code",
   "execution_count": 16,
   "metadata": {},
   "outputs": [
    {
     "data": {
      "text/plain": [
       "1"
      ]
     },
     "execution_count": 16,
     "metadata": {},
     "output_type": "execute_result"
    }
   ],
   "source": [
    "#^([0-9]|[A-Z]|[a-z])([0-9]|[A-Z]|[a-z]|[_]){6,14}([0-9]|[A-Z]|[a-z])@[a-z]{2,10}[.][a-z]{2,4}$\n",
    "import re\n",
    "def mail(n):\n",
    "    pattern='^([0-9]|[A-Z]|[a-z])([0-9]|[A-Z]|[a-z]|[_]){6,14}([0-9]|[A-Z]|[a-z])@[a-z]{2,10}[.][a-z]{2,4}$'\n",
    "    if re.match(pattern,n):\n",
    "        return 1\n",
    "    else:\n",
    "        return 0\n",
    "mail(\"datlaramanji@gmail.com\")\n",
    "\n",
    "\n"
   ]
  },
  {
   "cell_type": "code",
   "execution_count": 25,
   "metadata": {},
   "outputs": [
    {
     "name": "stdout",
     "output_type": "stream",
     "text": [
      "phone verified successfully\n",
      "email verified successfully\n"
     ]
    },
    {
     "data": {
      "text/plain": [
       "{'raji': ['9949492180', 'datlarajesw1998@gmail.com'],\n",
       " 'mouni': ['9346565402', 'mounireddy@gmail.com']}"
      ]
     },
     "execution_count": 25,
     "metadata": {},
     "output_type": "execute_result"
    }
   ],
   "source": [
    "d={\"raji\":[\"9949492180\",\"datlarajesw1998@gmail.com\"]}\n",
    "def addcontact(name,l):\n",
    "    if name not in d:\n",
    "        no=l[0]\n",
    "        n=l[1]\n",
    "        if phoneno(no)==1:\n",
    "            print(\"phone verified successfully\")\n",
    "            if mail(n)==1:\n",
    "                print(\"email verified successfully\")\n",
    "                d[name]=l\n",
    "            else:\n",
    "                print(\"enter valid no and email id\")\n",
    "     \n",
    "    else:\n",
    "        print(\"contact already exists\")\n",
    "addcontact(\"mouni\",[\"9346565402\",\"mounireddy@gmail.com\"]) \n",
    "d           \n",
    "\n",
    "    "
   ]
  },
  {
   "cell_type": "code",
   "execution_count": null,
   "metadata": {},
   "outputs": [],
   "source": []
  }
 ],
 "metadata": {
  "kernelspec": {
   "display_name": "Python 3",
   "language": "python",
   "name": "python3"
  },
  "language_info": {
   "codemirror_mode": {
    "name": "ipython",
    "version": 3
   },
   "file_extension": ".py",
   "mimetype": "text/x-python",
   "name": "python",
   "nbconvert_exporter": "python",
   "pygments_lexer": "ipython3",
   "version": "3.7.3"
  }
 },
 "nbformat": 4,
 "nbformat_minor": 2
}
