{
 "cells": [
  {
   "cell_type": "code",
   "execution_count": 2,
   "metadata": {},
   "outputs": [
    {
     "name": "stdout",
     "output_type": "stream",
     "text": [
      "20\n",
      "40\n",
      "23,29,31,37,"
     ]
    }
   ],
   "source": [
    "#Function to generate all the prime numbers in a given range\n",
    "def prime(lb):\n",
    "    count=0\n",
    "    for i in range(1,lb+1):\n",
    "        if(lb%i==0):\n",
    "            count=count+1\n",
    "    if(count==2):\n",
    "        print(i,end=\",\")\n",
    "lb=int(input())\n",
    "ub=int(input())\n",
    "for j in range(lb,ub+1):\n",
    "    prime(j)"
   ]
  },
  {
   "cell_type": "code",
   "execution_count": 4,
   "metadata": {},
   "outputs": [
    {
     "name": "stdout",
     "output_type": "stream",
     "text": [
      "20\n",
      "40\n",
      "23 29 31 37 "
     ]
    }
   ],
   "source": [
    "def prime(lb):\n",
    "    count=0\n",
    "    for i in range(1,lb+1):\n",
    "        if(lb%i==0):\n",
    "            count=count+1\n",
    "    if(count==2):\n",
    "        return 1\n",
    "    else:\n",
    "        return 0\n",
    "lb=int(input())\n",
    "ub=int(input())\n",
    "for j in range(lb,ub+1):\n",
    "    if prime(j)==1:\n",
    "        print(j,end=\" \")"
   ]
  },
  {
   "cell_type": "code",
   "execution_count": 29,
   "metadata": {},
   "outputs": [
    {
     "name": "stdout",
     "output_type": "stream",
     "text": [
      "10\n",
      "30\n",
      "10 12 14 16 18 20 22 24 26 28 "
     ]
    }
   ],
   "source": [
    "#all the even no in range\n",
    "def evenno(lb):\n",
    "        if(lb%2==0):\n",
    "            print(lb,end=\" \")\n",
    "lb=int(input())\n",
    "ub=int(input())\n",
    "for j in range(lb,ub):\n",
    "    evenno(j)"
   ]
  },
  {
   "cell_type": "code",
   "execution_count": 32,
   "metadata": {},
   "outputs": [
    {
     "name": "stdout",
     "output_type": "stream",
     "text": [
      "10\n",
      "50\n",
      "12\n",
      "18\n",
      "24\n",
      "30\n",
      "36\n",
      "42\n",
      "48\n"
     ]
    }
   ],
   "source": [
    "#all numbers divisible by 6 and not a factor of 100 in a given range\n",
    "def divisible(lb):\n",
    "    if(lb%6==0 and 100%lb!=0):\n",
    "        print(lb)\n",
    "lb=int(input())\n",
    "ub=int(input())\n",
    "for j in range(lb,ub+1):\n",
    "    divisible(j)\n"
   ]
  },
  {
   "cell_type": "code",
   "execution_count": 3,
   "metadata": {},
   "outputs": [
    {
     "name": "stdout",
     "output_type": "stream",
     "text": [
      "153\n",
      "153\n",
      "armstrong\n"
     ]
    }
   ],
   "source": [
    "#armstrong num\n",
    "def armstrong(n):\n",
    "    s=0\n",
    "    x=n\n",
    "    for i in range(1,n+1):\n",
    "        r=n%10\n",
    "        s=s+r**3\n",
    "        n=n//10\n",
    "    print(s)\n",
    "    if(s==x):\n",
    "        print(\"armstrong\")\n",
    "    else:\n",
    "        print(\"not armstrong\")\n",
    "n=int(input())\n",
    "armstrong(n)"
   ]
  },
  {
   "cell_type": "code",
   "execution_count": 6,
   "metadata": {},
   "outputs": [
    {
     "name": "stdout",
     "output_type": "stream",
     "text": [
      "407\n",
      "armstrong..... 407\n",
      "odd\n"
     ]
    }
   ],
   "source": [
    "#\n",
    "def armstrong(n):\n",
    "    s=0\n",
    "    x=n\n",
    "    for i in range(1,n+1):\n",
    "        r=n%10\n",
    "        s=s+r**3\n",
    "        n=n//10\n",
    "    if(s==x):\n",
    "        print(\"armstrong.....\",s)\n",
    "        if(s%2!=0):\n",
    "            print(\"odd\")\n",
    "        \n",
    "n=int(input())\n",
    "armstrong(n)"
   ]
  },
  {
   "cell_type": "code",
   "execution_count": 30,
   "metadata": {},
   "outputs": [
    {
     "name": "stdout",
     "output_type": "stream",
     "text": [
      "1\n",
      "4\n",
      "avg 8\n"
     ]
    }
   ],
   "source": [
    "#cube even no\n",
    "def cubeeven(ib,ub):\n",
    "    s=0\n",
    "    count=0\n",
    "    for i in range(lb,ub):\n",
    "        if(i%2==0):\n",
    "            a=i**3\n",
    "            s=s+a\n",
    "            count=count+1\n",
    "    print(\"avg\",s//count)\n",
    "lb=int(input())\n",
    "ub=int(input())\n",
    "cubeeven(lb,ub)\n",
    "    "
   ]
  },
  {
   "cell_type": "code",
   "execution_count": 22,
   "metadata": {},
   "outputs": [
    {
     "name": "stdout",
     "output_type": "stream",
     "text": [
      "1\n",
      "10\n",
      "perfect.... 6\n"
     ]
    }
   ],
   "source": [
    "#4.program to print all the sum of perfect numbers in a given range\n",
    "def sumofperfect(x):\n",
    "    s=0\n",
    "    for i in range(1,x):\n",
    "        if(x%i==0):\n",
    "            s=s+i\n",
    "    if(s==x):\n",
    "        print(\"perfect....\",x)\n",
    "x=int(input())\n",
    "y=int(input())\n",
    "for j in range(x,y+1):\n",
    "    sumofperfect(j)"
   ]
  },
  {
   "cell_type": "code",
   "execution_count": null,
   "metadata": {},
   "outputs": [],
   "source": []
  }
 ],
 "metadata": {
  "kernelspec": {
   "display_name": "Python 3",
   "language": "python",
   "name": "python3"
  },
  "language_info": {
   "codemirror_mode": {
    "name": "ipython",
    "version": 3
   },
   "file_extension": ".py",
   "mimetype": "text/x-python",
   "name": "python",
   "nbconvert_exporter": "python",
   "pygments_lexer": "ipython3",
   "version": "3.7.3"
  }
 },
 "nbformat": 4,
 "nbformat_minor": 2
}
