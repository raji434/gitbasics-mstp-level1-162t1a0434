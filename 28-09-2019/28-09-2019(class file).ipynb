{
 "cells": [
  {
   "cell_type": "code",
   "execution_count": 7,
   "metadata": {},
   "outputs": [
    {
     "name": "stdout",
     "output_type": "stream",
     "text": [
      "1 \n",
      "-5 9 8 -10 -78 -100 10\n",
      "166\n"
     ]
    }
   ],
   "source": [
    "# Additive inverse\n",
    "n=int(input())\n",
    "for i in range(1,n+1):\n",
    "    x=list(map(int,input().split()))\n",
    "    s=0\n",
    "    for i in x:\n",
    "        if(i>0):\n",
    "            s=s+(-1*i)\n",
    "        elif(i<0):\n",
    "            s=s+(-1*i)\n",
    "    print (s)"
   ]
  },
  {
   "cell_type": "markdown",
   "metadata": {},
   "source": [
    "# pan digital"
   ]
  },
  {
   "cell_type": "code",
   "execution_count": 8,
   "metadata": {},
   "outputs": [
    {
     "name": "stdout",
     "output_type": "stream",
     "text": [
      "1\n",
      "223311556634787960\n",
      "True\n"
     ]
    }
   ],
   "source": [
    "n=int(input())\n",
    "for i in range(1,n+1):\n",
    "    a=input()\n",
    "    b=['0','1','2','3','4','5','6','7','8','9']\n",
    "    count=0\n",
    "    for j in b:\n",
    "        if j in a:\n",
    "            count+=1\n",
    "    if count==10:\n",
    "        print(\"True\")\n",
    "    else:\n",
    "        print(\"False\")"
   ]
  },
  {
   "cell_type": "code",
   "execution_count": 13,
   "metadata": {},
   "outputs": [
    {
     "name": "stdout",
     "output_type": "stream",
     "text": [
      "kvsw\n",
      "459\n"
     ]
    }
   ],
   "source": [
    "#s=\"kvsw\"\n",
    "s=input()\n",
    "sum=0\n",
    "for i in s:\n",
    "    sum=sum+(ord(i))\n",
    "print(sum)"
   ]
  },
  {
   "cell_type": "code",
   "execution_count": 14,
   "metadata": {},
   "outputs": [
    {
     "name": "stdout",
     "output_type": "stream",
     "text": [
      "ibj"
     ]
    }
   ],
   "source": [
    "a=\"hai\"\n",
    "for i in a:\n",
    "    b=ord(i)+1\n",
    "    print(chr(b),end=\"\")"
   ]
  },
  {
   "cell_type": "markdown",
   "metadata": {},
   "source": [
    "# Fibonacci series\n",
    "    "
   ]
  },
  {
   "cell_type": "code",
   "execution_count": 15,
   "metadata": {},
   "outputs": [
    {
     "name": "stdout",
     "output_type": "stream",
     "text": [
      "5\n",
      "0 1 1 2 3 "
     ]
    }
   ],
   "source": [
    "a=0\n",
    "b=1\n",
    "n=int(input())\n",
    "for i in range(n):\n",
    "    print(a,end=\" \")\n",
    "    c=a+b\n",
    "    a=b\n",
    "    b=c\n",
    "    "
   ]
  },
  {
   "cell_type": "code",
   "execution_count": null,
   "metadata": {},
   "outputs": [],
   "source": []
  }
 ],
 "metadata": {
  "kernelspec": {
   "display_name": "Python 3",
   "language": "python",
   "name": "python3"
  },
  "language_info": {
   "codemirror_mode": {
    "name": "ipython",
    "version": 3
   },
   "file_extension": ".py",
   "mimetype": "text/x-python",
   "name": "python",
   "nbconvert_exporter": "python",
   "pygments_lexer": "ipython3",
   "version": "3.7.3"
  }
 },
 "nbformat": 4,
 "nbformat_minor": 2
}
