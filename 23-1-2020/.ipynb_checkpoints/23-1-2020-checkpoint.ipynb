{
 "cells": [
  {
   "cell_type": "code",
   "execution_count": 1,
   "metadata": {},
   "outputs": [],
   "source": [
    "import pandas as pd"
   ]
  },
  {
   "cell_type": "code",
   "execution_count": 3,
   "metadata": {},
   "outputs": [
    {
     "data": {
      "text/html": [
       "<div>\n",
       "<style scoped>\n",
       "    .dataframe tbody tr th:only-of-type {\n",
       "        vertical-align: middle;\n",
       "    }\n",
       "\n",
       "    .dataframe tbody tr th {\n",
       "        vertical-align: top;\n",
       "    }\n",
       "\n",
       "    .dataframe thead th {\n",
       "        text-align: right;\n",
       "    }\n",
       "</style>\n",
       "<table border=\"1\" class=\"dataframe\">\n",
       "  <thead>\n",
       "    <tr style=\"text-align: right;\">\n",
       "      <th></th>\n",
       "      <th>a</th>\n",
       "      <th>b</th>\n",
       "      <th>c</th>\n",
       "      <th>d</th>\n",
       "      <th>message</th>\n",
       "    </tr>\n",
       "  </thead>\n",
       "  <tbody>\n",
       "    <tr>\n",
       "      <th>0</th>\n",
       "      <td>1</td>\n",
       "      <td>2</td>\n",
       "      <td>3</td>\n",
       "      <td>4</td>\n",
       "      <td>hello</td>\n",
       "    </tr>\n",
       "    <tr>\n",
       "      <th>1</th>\n",
       "      <td>5</td>\n",
       "      <td>6</td>\n",
       "      <td>7</td>\n",
       "      <td>8</td>\n",
       "      <td>world</td>\n",
       "    </tr>\n",
       "    <tr>\n",
       "      <th>2</th>\n",
       "      <td>9</td>\n",
       "      <td>10</td>\n",
       "      <td>11</td>\n",
       "      <td>12</td>\n",
       "      <td>foo</td>\n",
       "    </tr>\n",
       "  </tbody>\n",
       "</table>\n",
       "</div>"
      ],
      "text/plain": [
       "   a   b   c   d message\n",
       "0  1   2   3   4   hello\n",
       "1  5   6   7   8   world\n",
       "2  9  10  11  12     foo"
      ]
     },
     "execution_count": 3,
     "metadata": {},
     "output_type": "execute_result"
    }
   ],
   "source": [
    "df=pd.read_csv(\"ex1.csv\")\n",
    "df"
   ]
  },
  {
   "cell_type": "code",
   "execution_count": 3,
   "metadata": {},
   "outputs": [],
   "source": [
    "import numpy as np\n",
    "df1=pd"
   ]
  },
  {
   "cell_type": "code",
   "execution_count": 12,
   "metadata": {
    "scrolled": true
   },
   "outputs": [
    {
     "data": {
      "text/plain": [
       "DatetimeIndex(['2020-01-01', '2020-01-02'], dtype='datetime64[ns]', freq='D')"
      ]
     },
     "execution_count": 12,
     "metadata": {},
     "output_type": "execute_result"
    }
   ],
   "source": [
    "pd.date_range(\"1/1/2020\",periods=2)"
   ]
  },
  {
   "cell_type": "code",
   "execution_count": 13,
   "metadata": {},
   "outputs": [],
   "source": [
    "dates=pd.date_range(\"1/1/2020\",periods=5)"
   ]
  },
  {
   "cell_type": "code",
   "execution_count": 14,
   "metadata": {},
   "outputs": [
    {
     "data": {
      "text/plain": [
       "DatetimeIndex(['2020-01-01', '2020-01-02', '2020-01-03', '2020-01-04',\n",
       "               '2020-01-05'],\n",
       "              dtype='datetime64[ns]', freq='D')"
      ]
     },
     "execution_count": 14,
     "metadata": {},
     "output_type": "execute_result"
    }
   ],
   "source": [
    "dates"
   ]
  },
  {
   "cell_type": "code",
   "execution_count": 18,
   "metadata": {},
   "outputs": [
    {
     "data": {
      "text/html": [
       "<div>\n",
       "<style scoped>\n",
       "    .dataframe tbody tr th:only-of-type {\n",
       "        vertical-align: middle;\n",
       "    }\n",
       "\n",
       "    .dataframe tbody tr th {\n",
       "        vertical-align: top;\n",
       "    }\n",
       "\n",
       "    .dataframe thead th {\n",
       "        text-align: right;\n",
       "    }\n",
       "</style>\n",
       "<table border=\"1\" class=\"dataframe\">\n",
       "  <thead>\n",
       "    <tr style=\"text-align: right;\">\n",
       "      <th></th>\n",
       "      <th>0</th>\n",
       "      <th>1</th>\n",
       "      <th>2</th>\n",
       "      <th>3</th>\n",
       "    </tr>\n",
       "  </thead>\n",
       "  <tbody>\n",
       "    <tr>\n",
       "      <th>0</th>\n",
       "      <td>0.258059</td>\n",
       "      <td>0.800071</td>\n",
       "      <td>0.558730</td>\n",
       "      <td>0.437985</td>\n",
       "    </tr>\n",
       "    <tr>\n",
       "      <th>1</th>\n",
       "      <td>0.460507</td>\n",
       "      <td>0.989028</td>\n",
       "      <td>0.934799</td>\n",
       "      <td>0.656884</td>\n",
       "    </tr>\n",
       "    <tr>\n",
       "      <th>2</th>\n",
       "      <td>0.607239</td>\n",
       "      <td>0.786844</td>\n",
       "      <td>0.518985</td>\n",
       "      <td>0.308213</td>\n",
       "    </tr>\n",
       "    <tr>\n",
       "      <th>3</th>\n",
       "      <td>0.037177</td>\n",
       "      <td>0.009331</td>\n",
       "      <td>0.243549</td>\n",
       "      <td>0.112810</td>\n",
       "    </tr>\n",
       "    <tr>\n",
       "      <th>4</th>\n",
       "      <td>0.138849</td>\n",
       "      <td>0.124232</td>\n",
       "      <td>0.145661</td>\n",
       "      <td>0.957801</td>\n",
       "    </tr>\n",
       "  </tbody>\n",
       "</table>\n",
       "</div>"
      ],
      "text/plain": [
       "          0         1         2         3\n",
       "0  0.258059  0.800071  0.558730  0.437985\n",
       "1  0.460507  0.989028  0.934799  0.656884\n",
       "2  0.607239  0.786844  0.518985  0.308213\n",
       "3  0.037177  0.009331  0.243549  0.112810\n",
       "4  0.138849  0.124232  0.145661  0.957801"
      ]
     },
     "execution_count": 18,
     "metadata": {},
     "output_type": "execute_result"
    }
   ],
   "source": [
    "import numpy as np\n",
    "df1=pd.DataFrame(np.random.rand(5,4))\n",
    "df1"
   ]
  },
  {
   "cell_type": "code",
   "execution_count": 19,
   "metadata": {},
   "outputs": [
    {
     "data": {
      "text/html": [
       "<div>\n",
       "<style scoped>\n",
       "    .dataframe tbody tr th:only-of-type {\n",
       "        vertical-align: middle;\n",
       "    }\n",
       "\n",
       "    .dataframe tbody tr th {\n",
       "        vertical-align: top;\n",
       "    }\n",
       "\n",
       "    .dataframe thead th {\n",
       "        text-align: right;\n",
       "    }\n",
       "</style>\n",
       "<table border=\"1\" class=\"dataframe\">\n",
       "  <thead>\n",
       "    <tr style=\"text-align: right;\">\n",
       "      <th></th>\n",
       "      <th>0</th>\n",
       "      <th>1</th>\n",
       "      <th>2</th>\n",
       "      <th>3</th>\n",
       "    </tr>\n",
       "  </thead>\n",
       "  <tbody>\n",
       "    <tr>\n",
       "      <th>2020-01-01</th>\n",
       "      <td>0.258059</td>\n",
       "      <td>0.800071</td>\n",
       "      <td>0.558730</td>\n",
       "      <td>0.437985</td>\n",
       "    </tr>\n",
       "    <tr>\n",
       "      <th>2020-01-02</th>\n",
       "      <td>0.460507</td>\n",
       "      <td>0.989028</td>\n",
       "      <td>0.934799</td>\n",
       "      <td>0.656884</td>\n",
       "    </tr>\n",
       "    <tr>\n",
       "      <th>2020-01-03</th>\n",
       "      <td>0.607239</td>\n",
       "      <td>0.786844</td>\n",
       "      <td>0.518985</td>\n",
       "      <td>0.308213</td>\n",
       "    </tr>\n",
       "    <tr>\n",
       "      <th>2020-01-04</th>\n",
       "      <td>0.037177</td>\n",
       "      <td>0.009331</td>\n",
       "      <td>0.243549</td>\n",
       "      <td>0.112810</td>\n",
       "    </tr>\n",
       "    <tr>\n",
       "      <th>2020-01-05</th>\n",
       "      <td>0.138849</td>\n",
       "      <td>0.124232</td>\n",
       "      <td>0.145661</td>\n",
       "      <td>0.957801</td>\n",
       "    </tr>\n",
       "  </tbody>\n",
       "</table>\n",
       "</div>"
      ],
      "text/plain": [
       "                   0         1         2         3\n",
       "2020-01-01  0.258059  0.800071  0.558730  0.437985\n",
       "2020-01-02  0.460507  0.989028  0.934799  0.656884\n",
       "2020-01-03  0.607239  0.786844  0.518985  0.308213\n",
       "2020-01-04  0.037177  0.009331  0.243549  0.112810\n",
       "2020-01-05  0.138849  0.124232  0.145661  0.957801"
      ]
     },
     "execution_count": 19,
     "metadata": {},
     "output_type": "execute_result"
    }
   ],
   "source": [
    "df1.index=dates\n",
    "df1"
   ]
  },
  {
   "cell_type": "code",
   "execution_count": 37,
   "metadata": {},
   "outputs": [
    {
     "data": {
      "text/html": [
       "<div>\n",
       "<style scoped>\n",
       "    .dataframe tbody tr th:only-of-type {\n",
       "        vertical-align: middle;\n",
       "    }\n",
       "\n",
       "    .dataframe tbody tr th {\n",
       "        vertical-align: top;\n",
       "    }\n",
       "\n",
       "    .dataframe thead th {\n",
       "        text-align: right;\n",
       "    }\n",
       "</style>\n",
       "<table border=\"1\" class=\"dataframe\">\n",
       "  <thead>\n",
       "    <tr style=\"text-align: right;\">\n",
       "      <th></th>\n",
       "      <th>0</th>\n",
       "      <th>1</th>\n",
       "      <th>2</th>\n",
       "      <th>3</th>\n",
       "    </tr>\n",
       "  </thead>\n",
       "  <tbody>\n",
       "    <tr>\n",
       "      <th>2020-01-01</th>\n",
       "      <td>0.258059</td>\n",
       "      <td>0.800071</td>\n",
       "      <td>0.558730</td>\n",
       "      <td>0.437985</td>\n",
       "    </tr>\n",
       "    <tr>\n",
       "      <th>2020-01-02</th>\n",
       "      <td>0.460507</td>\n",
       "      <td>0.989028</td>\n",
       "      <td>0.934799</td>\n",
       "      <td>0.656884</td>\n",
       "    </tr>\n",
       "    <tr>\n",
       "      <th>2020-01-03</th>\n",
       "      <td>0.607239</td>\n",
       "      <td>0.786844</td>\n",
       "      <td>0.518985</td>\n",
       "      <td>0.308213</td>\n",
       "    </tr>\n",
       "    <tr>\n",
       "      <th>2020-01-04</th>\n",
       "      <td>0.037177</td>\n",
       "      <td>0.009331</td>\n",
       "      <td>0.243549</td>\n",
       "      <td>0.112810</td>\n",
       "    </tr>\n",
       "    <tr>\n",
       "      <th>2020-01-05</th>\n",
       "      <td>0.138849</td>\n",
       "      <td>0.124232</td>\n",
       "      <td>0.145661</td>\n",
       "      <td>0.957801</td>\n",
       "    </tr>\n",
       "  </tbody>\n",
       "</table>\n",
       "</div>"
      ],
      "text/plain": [
       "                   0         1         2         3\n",
       "2020-01-01  0.258059  0.800071  0.558730  0.437985\n",
       "2020-01-02  0.460507  0.989028  0.934799  0.656884\n",
       "2020-01-03  0.607239  0.786844  0.518985  0.308213\n",
       "2020-01-04  0.037177  0.009331  0.243549  0.112810\n",
       "2020-01-05  0.138849  0.124232  0.145661  0.957801"
      ]
     },
     "execution_count": 37,
     "metadata": {},
     "output_type": "execute_result"
    }
   ],
   "source": [
    "sample=df1\n",
    "sample"
   ]
  },
  {
   "cell_type": "markdown",
   "metadata": {},
   "source": [
    "samplecheck=sample.to_csv(\"samplecheck.csv"
   ]
  },
  {
   "cell_type": "code",
   "execution_count": null,
   "metadata": {},
   "outputs": [],
   "source": []
  },
  {
   "cell_type": "code",
   "execution_count": 33,
   "metadata": {},
   "outputs": [
    {
     "data": {
      "text/plain": [
       "'{\"name\":[\"pinky\",\"push\",\"pop\"],\"age\":[23,5,6]}'"
      ]
     },
     "execution_count": 33,
     "metadata": {},
     "output_type": "execute_result"
    }
   ],
   "source": [
    "#json\n",
    "j='{\"name\":[\"pinky\",\"push\",\"pop\"],\"age\":[23,5,6]}'\n",
    "j"
   ]
  },
  {
   "cell_type": "code",
   "execution_count": 34,
   "metadata": {},
   "outputs": [
    {
     "data": {
      "text/plain": [
       "{'name': ['pinky', 'push', 'pop'], 'age': [23, 5, 6]}"
      ]
     },
     "execution_count": 34,
     "metadata": {},
     "output_type": "execute_result"
    }
   ],
   "source": [
    "import json\n",
    "r=json.loads(j)\n",
    "r"
   ]
  },
  {
   "cell_type": "code",
   "execution_count": 35,
   "metadata": {},
   "outputs": [
    {
     "data": {
      "text/plain": [
       "{'name': ['pinky', 'push', 'pop'], 'age': [23, 5, 6]}"
      ]
     },
     "execution_count": 35,
     "metadata": {},
     "output_type": "execute_result"
    }
   ],
   "source": [
    "r=json.loads(j)\n",
    "r"
   ]
  },
  {
   "cell_type": "code",
   "execution_count": 39,
   "metadata": {},
   "outputs": [
    {
     "data": {
      "text/plain": [
       "[                                  Bank Name             City  ST   CERT  \\\n",
       " 0                               Allied Bank         Mulberry  AR     91   \n",
       " 1              The Woodbury Banking Company         Woodbury  GA  11297   \n",
       " 2                    First CornerStone Bank  King of Prussia  PA  35312   \n",
       " 3                        Trust Company Bank          Memphis  TN   9956   \n",
       " 4                North Milwaukee State Bank        Milwaukee  WI  20364   \n",
       " 5                    Hometown National Bank         Longview  WA  35156   \n",
       " 6                       The Bank of Georgia   Peachtree City  GA  35259   \n",
       " 7                              Premier Bank           Denver  CO  34112   \n",
       " 8                            Edgebrook Bank          Chicago  IL  57772   \n",
       " 9                    Doral Bank  En Espanol         San Juan  PR  32102   \n",
       " 10        Capitol City Bank & Trust Company          Atlanta  GA  33938   \n",
       " 11                  Highland Community Bank          Chicago  IL  20290   \n",
       " 12         First National Bank of Crestview        Crestview  FL  17557   \n",
       " 13                       Northern Star Bank          Mankato  MN  34983   \n",
       " 14   Frontier Bank, FSB D/B/A El Paseo Bank      Palm Desert  CA  34738   \n",
       " 15    The National Republic Bank of Chicago          Chicago  IL    916   \n",
       " 16                           NBRS Financial       Rising Sun  MD   4862   \n",
       " 17                    GreenChoice Bank, fsb          Chicago  IL  28462   \n",
       " 18                 Eastside Commercial Bank          Conyers  GA  58125   \n",
       " 19                   The Freedom State Bank          Freedom  OK  12483   \n",
       " 20                              Valley Bank  Fort Lauderdale  FL  21793   \n",
       " 21                              Valley Bank           Moline  IL  10450   \n",
       " 22              Slavie Federal Savings Bank          Bel Air  MD  32368   \n",
       " 23                    Columbia Savings Bank       Cincinnati  OH  32284   \n",
       " 24             AztecAmerica Bank En Espanol           Berwyn  IL  57866   \n",
       " 25                    Allendale County Bank          Fairfax  SC  15062   \n",
       " 26                       Vantage Point Bank          Horsham  PA  58531   \n",
       " 27    Millennium Bank, National Association         Sterling  VA  35096   \n",
       " 28                             Syringa Bank            Boise  ID  34296   \n",
       " 29                        The Bank of Union          El Reno  OK  17967   \n",
       " ..                                      ...              ...  ..    ...   \n",
       " 517                       ANB Financial, NA      Bentonville  AR  33901   \n",
       " 518                               Hume Bank             Hume  MO   1971   \n",
       " 519                  Douglass National Bank      Kansas City  MO  24660   \n",
       " 520                       Miami Valley Bank         Lakeview  OH  16848   \n",
       " 521                                 NetBank       Alpharetta  GA  32575   \n",
       " 522               Metropolitan Savings Bank       Pittsburgh  PA  35353   \n",
       " 523                         Bank of Ephraim          Ephraim  UT   1249   \n",
       " 524                           Reliance Bank     White Plains  NY  26778   \n",
       " 525   Guaranty National Bank of Tallahassee      Tallahassee  FL  26838   \n",
       " 526                     Dollar Savings Bank           Newark  NJ  31330   \n",
       " 527                    Pulaski Savings Bank     Philadelphia  PA  27203   \n",
       " 528   First National Bank of Blanchardville   Blanchardville  WI  11639   \n",
       " 529                   Southern Pacific Bank         Torrance  CA  27094   \n",
       " 530             Farmers Bank of Cheneyville      Cheneyville  LA  16445   \n",
       " 531                           Bank of Alamo            Alamo  TN   9961   \n",
       " 532  AmTrade International Bank  En Espanol          Atlanta  GA  33784   \n",
       " 533          Universal Federal Savings Bank          Chicago  IL  29355   \n",
       " 534            Connecticut Bank of Commerce         Stamford  CT  19183   \n",
       " 535                        New Century Bank  Shelby Township  MI  34979   \n",
       " 536                   Net 1st National Bank       Boca Raton  FL  26652   \n",
       " 537                            NextBank, NA          Phoenix  AZ  22314   \n",
       " 538                Oakwood Deposit Bank Co.          Oakwood  OH   8966   \n",
       " 539                   Bank of Sierra Blanca    Sierra Blanca  TX  22002   \n",
       " 540           Hamilton Bank, NA  En Espanol            Miami  FL  24382   \n",
       " 541                  Sinclair National Bank         Gravette  AR  34248   \n",
       " 542                      Superior Bank, FSB         Hinsdale  IL  32646   \n",
       " 543                     Malta National Bank            Malta  OH   6629   \n",
       " 544         First Alliance Bank & Trust Co.       Manchester  NH  34264   \n",
       " 545       National State Bank of Metropolis       Metropolis  IL   3815   \n",
       " 546                        Bank of Honolulu         Honolulu  HI  21029   \n",
       " \n",
       "                    Acquiring Institution        Closing Date  \\\n",
       " 0                           Today's Bank  September 23, 2016   \n",
       " 1                            United Bank     August 19, 2016   \n",
       " 2    First-Citizens Bank & Trust Company         May 6, 2016   \n",
       " 3             The Bank of Fayette County      April 29, 2016   \n",
       " 4    First-Citizens Bank & Trust Company      March 11, 2016   \n",
       " 5                         Twin City Bank     October 2, 2015   \n",
       " 6                          Fidelity Bank     October 2, 2015   \n",
       " 7              United Fidelity Bank, fsb       July 10, 2015   \n",
       " 8               Republic Bank of Chicago         May 8, 2015   \n",
       " 9           Banco Popular de Puerto Rico   February 27, 2015   \n",
       " 10   First-Citizens Bank & Trust Company   February 13, 2015   \n",
       " 11             United Fidelity Bank, fsb    January 23, 2015   \n",
       " 12                        First NBC Bank    January 16, 2015   \n",
       " 13                             BankVista   December 19, 2014   \n",
       " 14     Bank of Southern California, N.A.    November 7, 2014   \n",
       " 15                   State Bank of Texas    October 24, 2014   \n",
       " 16                           Howard Bank    October 17, 2014   \n",
       " 17                  Providence Bank, LLC       July 25, 2014   \n",
       " 18             Community & Southern Bank       July 18, 2014   \n",
       " 19       Alva State Bank & Trust Company       June 27, 2014   \n",
       " 20   Landmark Bank, National Association       June 20, 2014   \n",
       " 21                   Great Southern Bank       June 20, 2014   \n",
       " 22                         Bay Bank, FSB        May 30, 2014   \n",
       " 23             United Fidelity Bank, fsb        May 23, 2014   \n",
       " 24              Republic Bank of Chicago        May 16, 2014   \n",
       " 25                   Palmetto State Bank      April 25, 2014   \n",
       " 26                     First Choice Bank   February 28, 2014   \n",
       " 27                  WashingtonFirst Bank   February 28, 2014   \n",
       " 28                          Sunwest Bank    January 31, 2014   \n",
       " 29                             BancFirst    January 24, 2014   \n",
       " ..                                   ...                 ...   \n",
       " 517       Pulaski Bank and Trust Company         May 9, 2008   \n",
       " 518                        Security Bank       March 7, 2008   \n",
       " 519       Liberty Bank and Trust Company    January 25, 2008   \n",
       " 520         The Citizens Banking Company     October 4, 2007   \n",
       " 521                           ING DIRECT  September 28, 2007   \n",
       " 522  Allegheny Valley Bank of Pittsburgh    February 2, 2007   \n",
       " 523                        Far West Bank       June 25, 2004   \n",
       " 524                     Union State Bank      March 19, 2004   \n",
       " 525              Hancock Bank of Florida      March 12, 2004   \n",
       " 526                          No Acquirer   February 14, 2004   \n",
       " 527                       Earthstar Bank   November 14, 2003   \n",
       " 528                        The Park Bank         May 9, 2003   \n",
       " 529                            Beal Bank    February 7, 2003   \n",
       " 530            Sabine State Bank & Trust   December 17, 2002   \n",
       " 531                          No Acquirer    November 8, 2002   \n",
       " 532                          No Acquirer  September 30, 2002   \n",
       " 533               Chicago Community Bank       June 27, 2002   \n",
       " 534                   Hudson United Bank       June 26, 2002   \n",
       " 535                          No Acquirer      March 28, 2002   \n",
       " 536                       Bank Leumi USA       March 1, 2002   \n",
       " 537                          No Acquirer    February 7, 2002   \n",
       " 538       The State Bank & Trust Company    February 1, 2002   \n",
       " 539     The Security State Bank of Pecos    January 18, 2002   \n",
       " 540     Israel Discount Bank of New York    January 11, 2002   \n",
       " 541                   Delta Trust & Bank   September 7, 2001   \n",
       " 542                Superior Federal, FSB       July 27, 2001   \n",
       " 543                    North Valley Bank         May 3, 2001   \n",
       " 544  Southern New Hampshire Bank & Trust    February 2, 2001   \n",
       " 545              Banterra Bank of Marion   December 14, 2000   \n",
       " 546                   Bank of the Orient    October 13, 2000   \n",
       " \n",
       "            Updated Date  \n",
       " 0     November 17, 2016  \n",
       " 1     November 17, 2016  \n",
       " 2     September 6, 2016  \n",
       " 3     September 6, 2016  \n",
       " 4         June 16, 2016  \n",
       " 5        April 13, 2016  \n",
       " 6      October 24, 2016  \n",
       " 7       August 17, 2016  \n",
       " 8         July 12, 2016  \n",
       " 9          May 13, 2015  \n",
       " 10       April 21, 2015  \n",
       " 11       April 21, 2015  \n",
       " 12     January 15, 2016  \n",
       " 13      January 6, 2016  \n",
       " 14    November 10, 2016  \n",
       " 15      January 6, 2016  \n",
       " 16       March 26, 2015  \n",
       " 17        July 28, 2015  \n",
       " 18        July 11, 2016  \n",
       " 19       March 25, 2016  \n",
       " 20        June 29, 2015  \n",
       " 21        June 26, 2015  \n",
       " 22        June 15, 2015  \n",
       " 23    November 10, 2016  \n",
       " 24     October 20, 2016  \n",
       " 25        July 18, 2014  \n",
       " 26        March 3, 2015  \n",
       " 27       March 03, 2015  \n",
       " 28       April 12, 2016  \n",
       " 29       March 25, 2016  \n",
       " ..                  ...  \n",
       " 517     August 28, 2012  \n",
       " 518     August 28, 2012  \n",
       " 519    October 26, 2012  \n",
       " 520  September 12, 2016  \n",
       " 521     August 28, 2012  \n",
       " 522    October 27, 2010  \n",
       " 523       April 9, 2008  \n",
       " 524       April 9, 2008  \n",
       " 525        June 5, 2012  \n",
       " 526       April 9, 2008  \n",
       " 527       July 22, 2005  \n",
       " 528        June 5, 2012  \n",
       " 529    October 20, 2008  \n",
       " 530    October 20, 2004  \n",
       " 531      March 18, 2005  \n",
       " 532  September 11, 2006  \n",
       " 533       April 9, 2008  \n",
       " 534   February 14, 2012  \n",
       " 535      March 18, 2005  \n",
       " 536       April 9, 2008  \n",
       " 537    February 5, 2015  \n",
       " 538    October 25, 2012  \n",
       " 539    November 6, 2003  \n",
       " 540  September 21, 2015  \n",
       " 541   February 10, 2004  \n",
       " 542     August 19, 2014  \n",
       " 543   November 18, 2002  \n",
       " 544   February 18, 2003  \n",
       " 545      March 17, 2005  \n",
       " 546      March 17, 2005  \n",
       " \n",
       " [547 rows x 7 columns]]"
      ]
     },
     "execution_count": 39,
     "metadata": {},
     "output_type": "execute_result"
    }
   ],
   "source": [
    "bank=pd.read_html('fdic_failed_bank_list.html')\n",
    "bank"
   ]
  },
  {
   "cell_type": "code",
   "execution_count": 40,
   "metadata": {},
   "outputs": [
    {
     "data": {
      "text/plain": [
       "1"
      ]
     },
     "execution_count": 40,
     "metadata": {},
     "output_type": "execute_result"
    }
   ],
   "source": [
    "bank=pd.read_html('fdic_failed_bank_list.html')\n",
    "len(bank)"
   ]
  },
  {
   "cell_type": "code",
   "execution_count": null,
   "metadata": {},
   "outputs": [],
   "source": []
  }
 ],
 "metadata": {
  "kernelspec": {
   "display_name": "Python 3",
   "language": "python",
   "name": "python3"
  },
  "language_info": {
   "codemirror_mode": {
    "name": "ipython",
    "version": 3
   },
   "file_extension": ".py",
   "mimetype": "text/x-python",
   "name": "python",
   "nbconvert_exporter": "python",
   "pygments_lexer": "ipython3",
   "version": "3.7.3"
  }
 },
 "nbformat": 4,
 "nbformat_minor": 2
}
